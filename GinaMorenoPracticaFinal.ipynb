{
  "nbformat": 4,
  "nbformat_minor": 0,
  "metadata": {
    "colab": {
      "name": "GinaMorenoPracticaFinal.ipynb",
      "provenance": [],
      "authorship_tag": "ABX9TyMG+mr+nmNpscQslF3hPv7C",
      "include_colab_link": true
    },
    "kernelspec": {
      "name": "python3",
      "display_name": "Python 3"
    },
    "language_info": {
      "name": "python"
    },
    "accelerator": "GPU"
  },
  "cells": [
    {
      "cell_type": "markdown",
      "metadata": {
        "id": "view-in-github",
        "colab_type": "text"
      },
      "source": [
        "<a href=\"https://colab.research.google.com/github/Gym28/DeepLearning/blob/main/GinaMorenoPracticaFinal.ipynb\" target=\"_parent\"><img src=\"https://colab.research.google.com/assets/colab-badge.svg\" alt=\"Open In Colab\"/></a>"
      ]
    },
    {
      "cell_type": "code",
      "execution_count": null,
      "metadata": {
        "colab": {
          "base_uri": "https://localhost:8080/"
        },
        "id": "siimZDWAsO55",
        "outputId": "10ddb4ef-fadb-4129-fb77-0094b111a5e1"
      },
      "outputs": [
        {
          "output_type": "stream",
          "name": "stdout",
          "text": [
            "--2022-06-09 13:42:07--  https://public.opendatasoft.com/explore/dataset/airbnb-listings/download/?format=csv&disjunctive.host_verifications=true&disjunctive.amenities=true&disjunctive.features=true&refine.country=Spain&q=Madrid&timezone=Europe/London&use_labels_for_header=true&csv_separator=%3B\n",
            "Resolving public.opendatasoft.com (public.opendatasoft.com)... 34.249.199.226, 34.248.20.69\n",
            "Connecting to public.opendatasoft.com (public.opendatasoft.com)|34.249.199.226|:443... connected.\n",
            "HTTP request sent, awaiting response... 200 OK\n",
            "Length: unspecified [application/csv]\n",
            "Saving to: ‘airbnb-listings.csv’\n",
            "\n",
            "airbnb-listings.csv     [                 <=>]  54.31M   749KB/s    in 89s     \n",
            "\n",
            "2022-06-09 13:43:41 (625 KB/s) - ‘airbnb-listings.csv’ saved [56950929]\n",
            "\n"
          ]
        }
      ],
      "source": [
        "# nos descargamos el dataset de OpenDataSoft\n",
        "!wget -O \"airbnb-listings.csv\" \"https://public.opendatasoft.com/explore/dataset/airbnb-listings/download/?format=csv&disjunctive.host_verifications=true&disjunctive.amenities=true&disjunctive.features=true&refine.country=Spain&q=Madrid&timezone=Europe/London&use_labels_for_header=true&csv_separator=%3B\"\n",
        "\n"
      ]
    },
    {
      "cell_type": "code",
      "source": [
        ""
      ],
      "metadata": {
        "id": "PJW7fFxbxqmm"
      },
      "execution_count": null,
      "outputs": []
    }
  ]
}